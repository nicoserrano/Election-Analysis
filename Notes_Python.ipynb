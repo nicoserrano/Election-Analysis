{
 "cells": [
  {
   "cell_type": "markdown",
   "id": "1db10d34",
   "metadata": {},
   "source": [
    "# Print drill in Dictionaries\n",
    "## using F-string "
   ]
  },
  {
   "cell_type": "code",
   "execution_count": 1,
   "id": "0058b833",
   "metadata": {},
   "outputs": [],
   "source": [
    "counties_dict = {\"Arapahoe\":422829,\"Denver\":463353,\"Jefferson\":432438}"
   ]
  },
  {
   "cell_type": "code",
   "execution_count": 3,
   "id": "d89f878d",
   "metadata": {},
   "outputs": [
    {
     "name": "stdout",
     "output_type": "stream",
     "text": [
      "Arapahoe county has  422829 registered voters.\n",
      "Denver county has  463353 registered voters.\n",
      "Jefferson county has  432438 registered voters.\n"
     ]
    }
   ],
   "source": [
    "#We are going to print the key-value pair with a complete sentence f-string\n",
    "for county, voters in counties_dict.items():\n",
    "    print(county + \" county has \" ,voters, \"registered voters.\")"
   ]
  },
  {
   "cell_type": "markdown",
   "id": "cde1a52f",
   "metadata": {},
   "source": [
    "## Now, unsing f-string"
   ]
  },
  {
   "cell_type": "code",
   "execution_count": 5,
   "id": "800a14c7",
   "metadata": {},
   "outputs": [
    {
     "name": "stdout",
     "output_type": "stream",
     "text": [
      "Arapahoe county has 422829 ristered voters.\n",
      "Denver county has 463353 ristered voters.\n",
      "Jefferson county has 432438 ristered voters.\n"
     ]
    }
   ],
   "source": [
    "for county, voters in counties_dict.items():\n",
    "    print(f\"{county} county has {voters} ristered voters.\")"
   ]
  },
  {
   "cell_type": "markdown",
   "id": "1e654cee",
   "metadata": {},
   "source": [
    "## Multiline F-strings"
   ]
  },
  {
   "cell_type": "code",
   "execution_count": 14,
   "id": "a90ea116",
   "metadata": {},
   "outputs": [
    {
     "name": "stdout",
     "output_type": "stream",
     "text": [
      "How many votes did the candidate get in the election? 20000\n",
      "What is the total number of votes in the election? 23485\n"
     ]
    }
   ],
   "source": [
    "candidate_votes = int(input(\"How many votes did the candidate get in the election? \"))\n",
    "total_votes = int(input(\"What is the total number of votes in the election? \"))"
   ]
  },
  {
   "cell_type": "code",
   "execution_count": 17,
   "id": "e3c62ae7",
   "metadata": {},
   "outputs": [
    {
     "name": "stdout",
     "output_type": "stream",
     "text": [
      "You received 20000 number of votes. The total number of votes in the election was 23485. You received 85.16074089844582% of the total votes.\n"
     ]
    }
   ],
   "source": [
    "message_to_candidate = (\n",
    "    f\"You received {candidate_votes} number of votes. \"\n",
    "    f\"The total number of votes in the election was {total_votes}. \"\n",
    "    f\"You received {candidate_votes / total_votes * 100}% of the total votes.\")\n",
    "\n",
    "print(message_to_candidate)"
   ]
  },
  {
   "cell_type": "markdown",
   "id": "07eda692",
   "metadata": {},
   "source": [
    "# Format floats"
   ]
  },
  {
   "cell_type": "markdown",
   "id": "6f7afb16",
   "metadata": {},
   "source": [
    "### The general format to format a number is: \n",
    "f'{value:{width}.{precision}}"
   ]
  },
  {
   "cell_type": "markdown",
   "id": "1850d10e",
   "metadata": {},
   "source": [
    "Value means the number variable we are including in the f-string\n",
    "The width specifies the number of characters used to display the value. \n",
    "The precision indicates the number of decimal places to format the value. Ex: to put two decimal places we use .2f as f means float\n",
    "To add a thousand separator comma just add a \",\" after the width before the \".\""
   ]
  },
  {
   "cell_type": "code",
   "execution_count": 21,
   "id": "5a67689e",
   "metadata": {},
   "outputs": [
    {
     "name": "stdout",
     "output_type": "stream",
     "text": [
      "You received 20,000 number of votes. The total number of votes in the election was 23,485. You received 85.16% of the total votes.\n"
     ]
    }
   ],
   "source": [
    "message_to_candidate = (\n",
    "    f\"You received {candidate_votes:,} number of votes. \"\n",
    "    f\"The total number of votes in the election was {total_votes:,}. \"\n",
    "    f\"You received {candidate_votes / total_votes * 100:.2f}% of the total votes.\")\n",
    "\n",
    "print(message_to_candidate)"
   ]
  },
  {
   "cell_type": "markdown",
   "id": "289f8b22",
   "metadata": {},
   "source": [
    "### Skill drill"
   ]
  },
  {
   "cell_type": "code",
   "execution_count": 23,
   "id": "b109ca83",
   "metadata": {},
   "outputs": [
    {
     "name": "stdout",
     "output_type": "stream",
     "text": [
      "Arapahoe county has 422829 registered voters.\n",
      "Denver county has 463353 registered voters.\n",
      "Jefferson county has 432438 registered voters.\n"
     ]
    }
   ],
   "source": [
    "# using the counties_dict at the beginning\n",
    "for county, voters in counties_dict.items():\n",
    "    print(f\"{county} county has {voters} registered voters.\") "
   ]
  },
  {
   "cell_type": "code",
   "execution_count": 44,
   "id": "2bf0f18a",
   "metadata": {},
   "outputs": [],
   "source": [
    "#using the voting_data list of dictionaries\n",
    "voting_data = [{\"county\":\"Arapahoe\", \"registered_voters\": 422829}, {\"county\":\"Denver\", \"registered_voters\": 463353}, {\"county\":\"Jefferson\", \"registered_voters\": 432438}]"
   ]
  },
  {
   "cell_type": "code",
   "execution_count": 32,
   "id": "86fd5bf1",
   "metadata": {},
   "outputs": [
    {
     "name": "stdout",
     "output_type": "stream",
     "text": [
      "Arapahoe\n",
      "422829\n",
      "Denver\n",
      "463353\n",
      "Jefferson\n",
      "432438\n"
     ]
    }
   ],
   "source": [
    "#This is extra, as I could just index each value I want\n",
    "for county_dict in voting_data:\n",
    "    for value in county_dict.values():\n",
    "        print(value)"
   ]
  },
  {
   "cell_type": "code",
   "execution_count": 47,
   "id": "cc1f1c9d",
   "metadata": {},
   "outputs": [
    {
     "data": {
      "text/plain": [
       "'Arapahoe'"
      ]
     },
     "execution_count": 47,
     "metadata": {},
     "output_type": "execute_result"
    }
   ],
   "source": [
    "voting_data[0][\"county\"]\n",
    "\n"
   ]
  },
  {
   "cell_type": "code",
   "execution_count": 27,
   "id": "c330c596",
   "metadata": {},
   "outputs": [
    {
     "ename": "SyntaxError",
     "evalue": "invalid syntax (<fstring>, line 1)",
     "output_type": "error",
     "traceback": [
      "\u001b[0;36m  File \u001b[0;32m\"<fstring>\"\u001b[0;36m, line \u001b[0;32m1\u001b[0m\n\u001b[0;31m    (voting_data[])\u001b[0m\n\u001b[0m                 ^\u001b[0m\n\u001b[0;31mSyntaxError\u001b[0m\u001b[0;31m:\u001b[0m invalid syntax\n"
     ]
    }
   ],
   "source": [
    "messagePrint = (\n",
    "    f'{voting_data[0][\"county\"]} county has {voting_data[0][\"registered_voters\"]} registerd voters.'\n",
    "    f'{voting_data[1][\"county\"]} county has {voting_data[1][\"registered_voters\"]}'\n",
    "    f'')\n",
    "print(messagePrint)"
   ]
  }
 ],
 "metadata": {
  "kernelspec": {
   "display_name": "Python 3",
   "language": "python",
   "name": "python3"
  },
  "language_info": {
   "codemirror_mode": {
    "name": "ipython",
    "version": 3
   },
   "file_extension": ".py",
   "mimetype": "text/x-python",
   "name": "python",
   "nbconvert_exporter": "python",
   "pygments_lexer": "ipython3",
   "version": "3.7.10"
  }
 },
 "nbformat": 4,
 "nbformat_minor": 5
}
